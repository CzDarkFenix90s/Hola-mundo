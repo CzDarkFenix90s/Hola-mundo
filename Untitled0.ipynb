{
  "nbformat": 4,
  "nbformat_minor": 0,
  "metadata": {
    "colab": {
      "provenance": [],
      "authorship_tag": "ABX9TyMym5+V4dXjI61ArtGu5Rcy",
      "include_colab_link": true
    },
    "kernelspec": {
      "name": "python3",
      "display_name": "Python 3"
    },
    "language_info": {
      "name": "python"
    }
  },
  "cells": [
    {
      "cell_type": "markdown",
      "metadata": {
        "id": "view-in-github",
        "colab_type": "text"
      },
      "source": [
        "<a href=\"https://colab.research.google.com/github/CzDarkFenix90s/hola-mundo/blob/main/Untitled0.ipynb\" target=\"_parent\"><img src=\"https://colab.research.google.com/assets/colab-badge.svg\" alt=\"Open In Colab\"/></a>"
      ]
    },
    {
      "cell_type": "markdown",
      "source": [
        "El codigo"
      ],
      "metadata": {
        "id": "y5hQtuKoD7Dh"
      }
    },
    {
      "cell_type": "code",
      "execution_count": null,
      "metadata": {
        "colab": {
          "base_uri": "https://localhost:8080/"
        },
        "id": "Rl164MBC_-uO",
        "outputId": "33710141-88bf-4e66-bfaa-0ff7242c3490"
      },
      "outputs": [
        {
          "output_type": "stream",
          "name": "stdout",
          "text": [
            "------------------ Bienvenido -------------------\n",
            "Por favor, regístrate\n",
            "\n",
            "Nombre: sada\n",
            "Ingrese su edad: 12\n",
            "Ingrese su correo: asddgjagj|@gmail.com\n",
            "Usuario sada registrado correctamente.\n",
            "\n",
            "¿Deseas registrar otro usuario? (s/n): s\n",
            "Nombre: añraw\n",
            "Ingrese su edad: ewa\n",
            "Por favor ingresa un número válido para la edad.\n",
            "Ingrese su edad: \n",
            "Por favor ingresa un número válido para la edad.\n",
            "Ingrese su edad: \n",
            "Por favor ingresa un número válido para la edad.\n",
            "Ingrese su edad: \n",
            "Ingrese su edad: \n",
            "Por favor ingresa un número válido para la edad.\n",
            "Por favor ingresa un número válido para la edad.\n",
            "Ingrese su edad: e\n",
            "Por favor ingresa un número válido para la edad.\n"
          ]
        }
      ],
      "source": [
        "import re\n",
        "\n",
        "usuarios = []\n",
        "print(\"------------------ Bienvenido -------------------\")\n",
        "print(\"Por favor, regístrate\\n\")\n",
        "\n",
        "def registro():\n",
        "    while True:\n",
        "        while True:\n",
        "            nombre = input(\"Nombre: \")\n",
        "            if nombre.strip() == \"\":\n",
        "                print(\"El nombre no puede estar vacío. Por favor ingresa un nombre válido.\")\n",
        "            else:\n",
        "                break\n",
        "\n",
        "        while True:\n",
        "            try:\n",
        "                edad = int(input(\"Ingrese su edad: \"))\n",
        "                if edad <= 0:\n",
        "                    print(\"La edad debe ser un número positivo.\")\n",
        "                else:\n",
        "                    break\n",
        "            except ValueError:\n",
        "                print(\"Por favor ingresa un número válido para la edad.\")\n",
        "\n",
        "        while True:\n",
        "            correo = input(\"Ingrese su correo: \")\n",
        "            if not re.match(r\"[^@]+@[^@]+\\.[^@]+\", correo):\n",
        "                print(\"El correo ingresado no es válido. Asegúrese de que contenga '@' y un dominio.\")\n",
        "            else:\n",
        "                break\n",
        "\n",
        "        usuario = {\n",
        "            \"nombre\": nombre,\n",
        "            \"edad\": edad,\n",
        "            \"correo\": correo,\n",
        "        }\n",
        "        usuarios.append(usuario)\n",
        "        print(f\"Usuario {nombre} registrado correctamente.\\n\")\n",
        "\n",
        "        continuar = input(\"¿Deseas registrar otro usuario? (s/n): \")\n",
        "        if continuar.lower() != 's':\n",
        "            break\n",
        "\n",
        "registro()\n",
        "\n",
        "x\n",
        "\n",
        "\n",
        "\n"
      ]
    }
  ]
}